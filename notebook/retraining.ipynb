{
 "cells": [
  {
   "cell_type": "code",
   "execution_count": 2,
   "id": "a7caa0b9-63aa-4808-b1f1-d720780e0e7f",
   "metadata": {},
   "outputs": [
    {
     "name": "stderr",
     "output_type": "stream",
     "text": [
      "2024/12/28 06:27:48 INFO mlflow.tracking.fluent: Autologging successfully enabled for sklearn.\n"
     ]
    },
    {
     "name": "stdout",
     "output_type": "stream",
     "text": [
      "Accuracy is below 90% (0.85). Retraining the model...\n"
     ]
    },
    {
     "name": "stderr",
     "output_type": "stream",
     "text": [
      "Registered model 'Fraud Detection Model' already exists. Creating a new version of this model...\n",
      "2024/12/28 06:28:13 INFO mlflow.store.model_registry.abstract_store: Waiting up to 300 seconds for model version to finish creation. Model name: Fraud Detection Model, version 3\n",
      "Created version '3' of model 'Fraud Detection Model'.\n"
     ]
    },
    {
     "name": "stdout",
     "output_type": "stream",
     "text": [
      "Model registered with version: 3\n",
      "🏃 View run gregarious-wolf-865 at: http://mlflow-web:5000/#/experiments/1/runs/65c3469a6a034ac1b6eae0eeb899d4ce\n",
      "🧪 View experiment at: http://mlflow-web:5000/#/experiments/1\n"
     ]
    }
   ],
   "source": [
    "import pandas as pd\n",
    "import mlflow\n",
    "import mlflow.sklearn\n",
    "from sklearn.model_selection import train_test_split\n",
    "from sklearn.ensemble import RandomForestClassifier\n",
    "from sklearn.metrics import accuracy_score\n",
    "\n",
    "mlflow.set_tracking_uri(\"http://mlflow-web:5000\")\n",
    "mlflow.set_experiment(\"experiment_fraud_detection\")\n",
    "\n",
    "mlflow.autolog()\n",
    "\n",
    "# Start MLflow run\n",
    "with mlflow.start_run() as run:\n",
    "    accuracy = 0.85\n",
    "    \n",
    "    if accuracy < 0.90:\n",
    "        print(f\"Accuracy is below 90% ({accuracy}). Retraining the model...\")\n",
    "\n",
    "        df = pd.read_csv('data/data-cleaned.csv')\n",
    "\n",
    "        # Define X and y\n",
    "        X = df.drop(\"Class\", axis=1)\n",
    "        y = df[\"Class\"]\n",
    "        \n",
    "        # Split data\n",
    "        X_train, X_test, y_train, y_test = train_test_split(X, y, test_size=0.2, random_state=42)\n",
    "        \n",
    "        # Retrain the model\n",
    "        model = RandomForestClassifier(n_estimators=100, max_depth=10, random_state=42)\n",
    "        model.fit(X_train, y_train)\n",
    "        \n",
    "        predictions = model.predict(X_test)\n",
    "        accuracy = accuracy_score(y_test, predictions)\n",
    "        mlflow.log_metric(\"accuracy\", accuracy)\n",
    "        \n",
    "        # Register the model if retrained\n",
    "        model_name = \"Fraud Detection Model\" \n",
    "        result = mlflow.register_model(f\"runs:/{run.info.run_id}/model\", model_name)\n",
    "        \n",
    "        print(f\"Model registered with version: {result.version}\")\n",
    "    else:\n",
    "        print(f\"Model accuracy is {accuracy}. No retraining needed.\")"
   ]
  },
  {
   "cell_type": "code",
   "execution_count": null,
   "id": "110eb563-a910-4576-9f16-4817531fcea5",
   "metadata": {},
   "outputs": [],
   "source": []
  }
 ],
 "metadata": {
  "kernelspec": {
   "display_name": "Python 3 (ipykernel)",
   "language": "python",
   "name": "python3"
  },
  "language_info": {
   "codemirror_mode": {
    "name": "ipython",
    "version": 3
   },
   "file_extension": ".py",
   "mimetype": "text/x-python",
   "name": "python",
   "nbconvert_exporter": "python",
   "pygments_lexer": "ipython3",
   "version": "3.11.6"
  }
 },
 "nbformat": 4,
 "nbformat_minor": 5
}
