{
 "cells": [
  {
   "cell_type": "code",
   "execution_count": 1,
   "id": "f59e25a0-9639-4321-aa7f-87c61f855fdb",
   "metadata": {},
   "outputs": [],
   "source": [
    "import pandas as pd\n",
    "import mlflow\n",
    "import mlflow.sklearn\n",
    "from sklearn.ensemble import RandomForestClassifier"
   ]
  },
  {
   "cell_type": "code",
   "execution_count": 2,
   "id": "e951bb72-2859-4722-a58e-fe85713c35d0",
   "metadata": {},
   "outputs": [
    {
     "data": {
      "text/plain": [
       "<Experiment: artifact_location='s3://mlflow/1', creation_time=1735365600776, experiment_id='1', last_update_time=1735365600776, lifecycle_stage='active', name='experiment_fraud_detection', tags={}>"
      ]
     },
     "execution_count": 2,
     "metadata": {},
     "output_type": "execute_result"
    }
   ],
   "source": [
    "mlflow.set_tracking_uri(\"http://mlflow-web:5000\")\n",
    "mlflow.set_experiment(\"experiment_fraud_detection\")"
   ]
  },
  {
   "cell_type": "code",
   "execution_count": 3,
   "id": "e74b7602-ebaa-4c63-a051-bd230f66c338",
   "metadata": {},
   "outputs": [
    {
     "name": "stderr",
     "output_type": "stream",
     "text": [
      "/opt/conda/lib/python3.11/site-packages/mlflow/store/artifact/utils/models.py:31: FutureWarning: ``mlflow.tracking.client.MlflowClient.get_latest_versions`` is deprecated since 2.9.0. Model registry stages will be removed in a future major release. To learn more about the deprecation of model registry stages, see our migration guide here: https://mlflow.org/docs/latest/model-registry.html#migrating-from-stages\n",
      "  latest = client.get_latest_versions(name, None if stage is None else [stage])\n"
     ]
    },
    {
     "data": {
      "application/vnd.jupyter.widget-view+json": {
       "model_id": "70ff80405b5d468d8132f8db76c54c28",
       "version_major": 2,
       "version_minor": 0
      },
      "text/plain": [
       "Downloading artifacts:   0%|          | 0/5 [00:00<?, ?it/s]"
      ]
     },
     "metadata": {},
     "output_type": "display_data"
    },
    {
     "name": "stdout",
     "output_type": "stream",
     "text": [
      "[0]\n"
     ]
    }
   ],
   "source": [
    "# Memuat model dari registry\n",
    "model_uri = \"models:/Fraud Detection Model/latest\"\n",
    "model = mlflow.sklearn.load_model(model_uri)\n",
    "\n",
    "# Misalnya data yang ingin diprediksi (sesuaikan dengan kolom Anda)\n",
    "data = {\n",
    "    'V1': [0.1],\n",
    "    'V2': [-0.5],\n",
    "    'V3': [1.2],\n",
    "    'V4': [-1.5],\n",
    "    'V5': [0.3],\n",
    "    'V6': [0.6],\n",
    "    'V7': [-0.2],\n",
    "    'V8': [1.8],\n",
    "    'V9': [0.0],\n",
    "    'V10': [-0.1],\n",
    "    'V11': [0.7],\n",
    "    'V12': [-1.1],\n",
    "    'V13': [0.9],\n",
    "    'V14': [-0.6],\n",
    "    'V15': [1.3],\n",
    "    'V16': [0.4],\n",
    "    'V17': [-0.3],\n",
    "    'V18': [1.5],\n",
    "    'V19': [0.2],\n",
    "    'V20': [-0.7],\n",
    "    'V21': [0.8],\n",
    "    'V22': [0.6],\n",
    "    'V23': [-1.0],\n",
    "    'V24': [0.5],\n",
    "    'V25': [1.0],\n",
    "    'V26': [-0.4],\n",
    "    'V27': [0.3],\n",
    "    'V28': [1.1],\n",
    "    'Amount': [50.0]\n",
    "}\n",
    "\n",
    "# Mengonversi data ke DataFrame\n",
    "df = pd.DataFrame(data)\n",
    "\n",
    "# Melakukan prediksi dengan model yang telah dimuat\n",
    "predictions = model.predict(df)\n",
    "print(predictions)"
   ]
  },
  {
   "cell_type": "code",
   "execution_count": null,
   "id": "3f1d9203-37a7-4be8-8e4f-6205388eafea",
   "metadata": {},
   "outputs": [],
   "source": []
  }
 ],
 "metadata": {
  "kernelspec": {
   "display_name": "Python 3 (ipykernel)",
   "language": "python",
   "name": "python3"
  },
  "language_info": {
   "codemirror_mode": {
    "name": "ipython",
    "version": 3
   },
   "file_extension": ".py",
   "mimetype": "text/x-python",
   "name": "python",
   "nbconvert_exporter": "python",
   "pygments_lexer": "ipython3",
   "version": "3.11.6"
  }
 },
 "nbformat": 4,
 "nbformat_minor": 5
}
